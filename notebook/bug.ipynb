{
 "cells": [
  {
   "cell_type": "code",
   "execution_count": 7,
   "metadata": {},
   "outputs": [],
   "source": [
    "from numba.core.errors import NumbaDeprecationWarning, NumbaPendingDeprecationWarning\n",
    "import warnings\n",
    "\n",
    "warnings.simplefilter('ignore', category=NumbaDeprecationWarning)\n",
    "warnings.simplefilter('ignore', category=NumbaPendingDeprecationWarning)\n",
    "from evidently.report import Report\n",
    "from evidently.metric_preset import DataDriftPreset, TargetDriftPreset, DataQualityPreset\n",
    "\n",
    "    "
   ]
  },
  {
   "cell_type": "code",
   "execution_count": 30,
   "metadata": {},
   "outputs": [],
   "source": [
    "train_f_path  = r\"D:\\github\\Credit Card Default Machine Learning\\Credit-Card-Default-Prediction\\src\\artifact\\data_ingestion\\2023-07-16-14-48-47\\ingested_data\\train\\default of credit card clients.csv\"\n",
    "# test_f_path = r\"D:\\github\\Credit Card Default Machine Learning\\Credit-Card-Default-Prediction\\src\\artifact\\data_ingestion\\2023-07-15-15-08-24\\ingested_data\\test\\default of credit card clients.csv\""
   ]
  },
  {
   "cell_type": "code",
   "execution_count": 31,
   "metadata": {},
   "outputs": [],
   "source": [
    "import pandas as pd\n",
    "train_df = pd.read_csv(train_f_path)\n"
   ]
  },
  {
   "cell_type": "code",
   "execution_count": 35,
   "metadata": {},
   "outputs": [
    {
     "data": {
      "text/plain": [
       "array([[  4103, 240000,      2,      1,      2,     36,     -1,     -1,\n",
       "             2,      0,     -1,      2,   5367,   6959,   6649,   5149,\n",
       "         13750,   5777,   6959,     15,      0,   7013,      0,    726,\n",
       "             1],\n",
       "       [ 26151,  50000,      2,      2,      1,     34,      3,      3,\n",
       "             2,      2,      2,      2,  47904,  48240,  48602,  46289,\n",
       "         44837,  44535,   2000,   2001,    499,   2000,   2000,   1500,\n",
       "             1],\n",
       "       [  4145, 200000,      2,      1,      2,     42,     -1,     -1,\n",
       "             2,     -1,     -1,     -1,    660,   1320,    660,   1320,\n",
       "          1320,   1710,   1320,      0,   1320,   1320,   1710,  27077,\n",
       "             1],\n",
       "       [   174,  50000,      2,      1,      2,     24,      1,     -2,\n",
       "            -2,     -2,     -2,     -2,   -709,   -709,   -709,  -2898,\n",
       "         -3272,  -3272,      0,      0,      0,      0,      0,      0,\n",
       "             1],\n",
       "       [ 28605,  30000,      2,      3,      1,     45,      2,     -1,\n",
       "            -1,      2,      0,      0,  15667,  12110,  14904,  14340,\n",
       "         15131,  16909,  12110,   3000,      0,   1000,   2000,      0,\n",
       "             1],\n",
       "       [  5201,  60000,      2,      1,      2,     34,      0,      0,\n",
       "             0,      0,      0,      0,  55447,  48270,  41087,  25518,\n",
       "         26276,  27012,   2178,   1511,   1200,   1300,   1300,   1252,\n",
       "             1],\n",
       "       [ 23642, 180000,      2,      1,      2,     35,      1,     -2,\n",
       "            -2,     -2,     -2,     -2,    -18,    -18,    -18,    -18,\n",
       "           -18,    -18,      0,      0,      0,      0,      0,      0,\n",
       "             1],\n",
       "       [ 26628,  60000,      1,      2,      2,     24,      2,      0,\n",
       "             0,      0,      0,      0,  27019,  25100,  21023,  16973,\n",
       "         12410,  11944,   1686,   2000,   1000,   1000,   6000,   5000,\n",
       "             1],\n",
       "       [ 26534, 450000,      2,      3,      1,     56,      1,     -1,\n",
       "            -1,     -1,     -1,     -1,     -4,    831,     -3,    646,\n",
       "            -2,    418,    835,      0,    649,      0,    420,   1204,\n",
       "             1],\n",
       "       [  9999,  80000,      2,      2,      2,     26,     -1,      2,\n",
       "             2,     -2,     -2,     -2,    780,    780,      0,      0,\n",
       "             0,      0,      0,      0,      0,      0,      0,      0,\n",
       "             1]], dtype=int64)"
      ]
     },
     "execution_count": 35,
     "metadata": {},
     "output_type": "execute_result"
    }
   ],
   "source": [
    "train_df[train_df['default payment next month']==1][1:11].values"
   ]
  },
  {
   "cell_type": "code",
   "execution_count": 5,
   "metadata": {},
   "outputs": [
    {
     "data": {
      "text/plain": [
       "Index(['ID', 'LIMIT_BAL', 'SEX', 'EDUCATION', 'MARRIAGE', 'AGE', 'PAY_0',\n",
       "       'PAY_2', 'PAY_3', 'PAY_4', 'PAY_5', 'PAY_6', 'BILL_AMT1', 'BILL_AMT2',\n",
       "       'BILL_AMT3', 'BILL_AMT4', 'BILL_AMT5', 'BILL_AMT6', 'PAY_AMT1',\n",
       "       'PAY_AMT2', 'PAY_AMT3', 'PAY_AMT4', 'PAY_AMT5', 'PAY_AMT6',\n",
       "       'default payment next month'],\n",
       "      dtype='object')"
      ]
     },
     "execution_count": 5,
     "metadata": {},
     "output_type": "execute_result"
    }
   ],
   "source": [
    "train_df.columns"
   ]
  },
  {
   "cell_type": "code",
   "execution_count": null,
   "metadata": {},
   "outputs": [],
   "source": []
  },
  {
   "cell_type": "code",
   "execution_count": 4,
   "metadata": {},
   "outputs": [
    {
     "ename": "SyntaxError",
     "evalue": "unterminated string literal (detected at line 1) (2160630012.py, line 1)",
     "output_type": "error",
     "traceback": [
      "\u001b[1;36m  Cell \u001b[1;32mIn[4], line 1\u001b[1;36m\u001b[0m\n\u001b[1;33m    path = r\"D:\\github\\Credit Card Default Machine Learning\\Credit-Card-Default-Prediction\\\"\u001b[0m\n\u001b[1;37m           ^\u001b[0m\n\u001b[1;31mSyntaxError\u001b[0m\u001b[1;31m:\u001b[0m unterminated string literal (detected at line 1)\n"
     ]
    }
   ],
   "source": [
    "path = r\"D:\\github\\Credit Card Default Machine Learning\\Credit-Card-Default-Prediction\\saved_models\\20230715152847\\model.pkl\""
   ]
  },
  {
   "cell_type": "code",
   "execution_count": 17,
   "metadata": {},
   "outputs": [
    {
     "data": {
      "text/plain": [
       "'20230715152847'"
      ]
     },
     "execution_count": 17,
     "metadata": {},
     "output_type": "execute_result"
    }
   ],
   "source": [
    "import os\n",
    "os.path.dirname(path).split(\"\\\\\")[-1]\n"
   ]
  },
  {
   "cell_type": "code",
   "execution_count": 18,
   "metadata": {},
   "outputs": [
    {
     "name": "stdout",
     "output_type": "stream",
     "text": [
      "2023-07-15 15:28:47\n"
     ]
    }
   ],
   "source": [
    "from datetime import datetime\n",
    "\n",
    "date_string = '20230715152847'\n",
    "date_format = \"%Y%m%d%H%M%S\"\n",
    "decoded_date = datetime.strptime(date_string, date_format)\n",
    "\n",
    "print(decoded_date)\n"
   ]
  },
  {
   "cell_type": "code",
   "execution_count": 34,
   "metadata": {},
   "outputs": [],
   "source": []
  },
  {
   "cell_type": "code",
   "execution_count": 45,
   "metadata": {},
   "outputs": [
    {
     "data": {
      "text/plain": [
       "0.81"
      ]
     },
     "execution_count": 45,
     "metadata": {},
     "output_type": "execute_result"
    }
   ],
   "source": []
  },
  {
   "cell_type": "code",
   "execution_count": null,
   "metadata": {},
   "outputs": [],
   "source": []
  }
 ],
 "metadata": {
  "kernelspec": {
   "display_name": "Python 3",
   "language": "python",
   "name": "python3"
  },
  "language_info": {
   "codemirror_mode": {
    "name": "ipython",
    "version": 3
   },
   "file_extension": ".py",
   "mimetype": "text/x-python",
   "name": "python",
   "nbconvert_exporter": "python",
   "pygments_lexer": "ipython3",
   "version": "3.10.0"
  },
  "orig_nbformat": 4
 },
 "nbformat": 4,
 "nbformat_minor": 2
}
