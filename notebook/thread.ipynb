{
 "cells": [
  {
   "cell_type": "code",
   "execution_count": 1,
   "metadata": {},
   "outputs": [],
   "source": [
    "import time\n",
    "from threading import Thread\n",
    "\n",
    "class DemoThread(Thread):\n",
    "    def __init__(self , *args , **kwargs):\n",
    "        super().__init__(daemon=False , name=\"demo thread\")\n",
    "        \n",
    "    def print_msg(self):\n",
    "        time.sleep(1)\n",
    "        print(\"I was called by thread\")\n",
    "    # we are overwriting run function of thread class\n",
    "    # when we call start method from object , it will call run method\n",
    "    def run(self):\n",
    "        self.print_msg()\n",
    "        \n"
   ]
  },
  {
   "cell_type": "code",
   "execution_count": 2,
   "metadata": {},
   "outputs": [
    {
     "name": "stdout",
     "output_type": "stream",
     "text": [
      "starting demo thread\n",
      "Demo thread started\n",
      "I was called by thread\n",
      "Thread has completed\n"
     ]
    }
   ],
   "source": [
    "d = DemoThread()\n",
    "print('starting demo thread')\n",
    "d.start()\n",
    "print(f\"Demo thread started\")\n",
    "d.join()\n",
    "print(f\"Thread has completed\")"
   ]
  },
  {
   "cell_type": "code",
   "execution_count": 3,
   "metadata": {},
   "outputs": [
    {
     "name": "stdout",
     "output_type": "stream",
     "text": [
      "I was called by thread\n",
      "I am wairting got print_msg to complete\n"
     ]
    }
   ],
   "source": [
    "d.print_msg()\n",
    "print(\"I am wairting got print_msg to complete\")"
   ]
  },
  {
   "cell_type": "code",
   "execution_count": null,
   "metadata": {},
   "outputs": [],
   "source": []
  }
 ],
 "metadata": {
  "kernelspec": {
   "display_name": "Python 3",
   "language": "python",
   "name": "python3"
  },
  "language_info": {
   "codemirror_mode": {
    "name": "ipython",
    "version": 3
   },
   "file_extension": ".py",
   "mimetype": "text/x-python",
   "name": "python",
   "nbconvert_exporter": "python",
   "pygments_lexer": "ipython3",
   "version": "3.10.0"
  },
  "orig_nbformat": 4
 },
 "nbformat": 4,
 "nbformat_minor": 2
}
